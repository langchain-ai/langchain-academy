{
 "cells": [
  {
   "cell_type": "markdown",
   "id": "2109e6a2",
   "metadata": {},
   "source": [
    "[![Open in Colab](https://colab.research.google.com/assets/colab-badge.svg)](https://colab.research.google.com/github/langchain-ai/langchain-academy/blob/main/module-3/dynamic-breakpoints.ipynb) [![Open in LangChain Academy](https://cdn.prod.website-files.com/65b8cd72835ceeacd4449a53/66e9eba12c7b7688aa3dbb5e_LCA-badge-green.svg)](https://academy.langchain.com/courses/take/intro-to-langgraph/lessons/58239526-lesson-4-dynamic-breakpoints)"
   ]
  },
  {
   "cell_type": "markdown",
   "id": "d0cefea1-f982-4bb1-b691-27a855bfdccb",
   "metadata": {},
   "source": [
    "# Dynamic breakpoints \n",
    "\n",
    "## Review\n",
    "\n",
    "We discussed motivations for human-in-the-loop:\n",
    "\n",
    "(1) `Approval` - We can interrupt our agent, surface state to a user, and allow the user to accept an action\n",
    "\n",
    "(2) `Debugging` - We can rewind the graph to reproduce or avoid issues\n",
    "\n",
    "(3) `Editing` - You can modify the state \n",
    "\n",
    "We covered breakpoints as a general way to stop the graph at specific steps, which enables use-cases like `Approval`\n",
    "\n",
    "We also showed how to edit graph state, and introduce human feedback. \n",
    "\n",
    "## Goals\n",
    "\n",
    "Breakpoints are set by the developer on a specific node during graph compilation. \n",
    "\n",
    "But, sometimes it is helpful to allow the graph **dynamically interrupt** itself!\n",
    "\n",
    "This is an internal breakpoint, and [can be achieved using `NodeInterrupt`](https://langchain-ai.github.io/langgraph/how-tos/human_in_the_loop/dynamic_breakpoints/#run-the-graph-with-dynamic-interrupt).\n",
    "\n",
    "This has a few specific benefits: \n",
    "\n",
    "(1) you can do it conditionally (from inside a node based on developer-defined logic).\n",
    "\n",
    "(2) you can communicate to the user why its interrupted (by passing whatever you want to the `NodeInterrupt`).\n",
    "\n",
    "Let's create a graph where a `NodeInterrupt` is thrown based upon length of the input."
   ]
  },
  {
   "cell_type": "code",
   "execution_count": null,
   "id": "387d8d87-598a-485a-a99f-a9270a7c2e73",
   "metadata": {},
   "outputs": [],
   "source": [
    "%%capture --no-stderr\n",
    "%pip install --quiet -U langgraph langchain_openai langgraph_sdk"
   ]
  },
  {
   "cell_type": "code",
   "execution_count": 1,
   "id": "6248f166-2013-445a-b4ae-1fb7b92f8c32",
   "metadata": {},
   "outputs": [
    {
     "data": {
      "image/jpeg": "[encoded data removed]",
      "text/plain": [
       "<IPython.core.display.Image object>"
      ]
     },
     "metadata": {},
     "output_type": "display_data"
    }
   ],
   "source": [
    "from IPython.display import Image, display\n",
    "\n",
    "from typing_extensions import TypedDict\n",
    "from langgraph.checkpoint.memory import MemorySaver\n",
    "from langgraph.errors import NodeInterrupt\n",
    "from langgraph.graph import START, END, StateGraph\n",
    "\n",
    "class State(TypedDict):\n",
    "    input: str\n",
    "\n",
    "def step_1(state: State) -> State:\n",
    "    print(\"---Step 1---\")\n",
    "    return state\n",
    "\n",
    "def step_2(state: State) -> State:\n",
    "    # Let's optionally raise a NodeInterrupt if the length of the input is longer than 5 characters\n",
    "    if len(state['input']) > 5:\n",
    "        raise NodeInterrupt(f\"Received input that is longer than 5 characters: {state['input']}\")\n",
    "    \n",
    "    print(\"---Step 2---\")\n",
    "    return state\n",
    "\n",
    "def step_3(state: State) -> State:\n",
    "    print(\"---Step 3---\")\n",
    "    return state\n",
    "\n",
    "builder = StateGraph(State)\n",
    "builder.add_node(\"step_1\", step_1)\n",
    "builder.add_node(\"step_2\", step_2)\n",
    "builder.add_node(\"step_3\", step_3)\n",
    "builder.add_edge(START, \"step_1\")\n",
    "builder.add_edge(\"step_1\", \"step_2\")\n",
    "builder.add_edge(\"step_2\", \"step_3\")\n",
    "builder.add_edge(\"step_3\", END)\n",
    "\n",
    "# Set up memory\n",
    "memory = MemorySaver()\n",
    "\n",
    "# Compile the graph with memory\n",
    "graph = builder.compile(checkpointer=memory)\n",
    "\n",
    "# View\n",
    "display(Image(graph.get_graph().draw_mermaid_png()))"
   ]
  },
  {
   "cell_type": "markdown",
   "id": "b2c6e5c8-0556-43d1-9eef-b3af32728f74",
   "metadata": {},
   "source": [
    "Let's run the graph with an input that's longer than 5 characters. "
   ]
  },
  {
   "cell_type": "code",
   "execution_count": 2,
   "id": "de73c9ce-ccc5-4ffd-8d82-7018364e7c4f",
   "metadata": {},
   "outputs": [
    {
     "name": "stdout",
     "output_type": "stream",
     "text": [
      "{'input': 'hello world'}\n",
      "---Step 1---\n",
      "{'input': 'hello world'}\n"
     ]
    }
   ],
   "source": [
    "initial_input = {\"input\": \"hello world\"}\n",
    "thread_config = {\"configurable\": {\"thread_id\": \"1\"}}\n",
    "\n",
    "# Run the graph until the first interruption\n",
    "for event in graph.stream(initial_input, thread_config, stream_mode=\"values\"):\n",
    "    print(event)"
   ]
  },
  {
   "cell_type": "markdown",
   "id": "da79063f-5b67-49dd-8ef0-3eae4c480cb5",
   "metadata": {},
   "source": [
    "If we inspect the graph state at this point, we the node set to execute next (`step_2`).\n"
   ]
  },
  {
   "cell_type": "code",
   "execution_count": 3,
   "id": "34706f0d-379b-4236-a42e-c8e52b27fb22",
   "metadata": {},
   "outputs": [
    {
     "name": "stdout",
     "output_type": "stream",
     "text": [
      "('step_2',)\n"
     ]
    }
   ],
   "source": [
    "state = graph.get_state(thread_config)\n",
    "print(state.next)"
   ]
  },
  {
   "cell_type": "markdown",
   "id": "3ed78755-f1e8-4c66-a4f8-a7ccff472c91",
   "metadata": {},
   "source": [
    "We can see that the `Interrupt` is logged to state."
   ]
  },
  {
   "cell_type": "code",
   "execution_count": 4,
   "id": "93815a05-819a-4050-8834-73236fa910dc",
   "metadata": {},
   "outputs": [
    {
     "name": "stdout",
     "output_type": "stream",
     "text": [
      "(PregelTask(id='6eb3910d-e231-5ba2-b25e-28ad575690bd', name='step_2', error=None, interrupts=(Interrupt(value='Received input that is longer than 5 characters: hello world', when='during'),), state=None),)\n"
     ]
    }
   ],
   "source": [
    "print(state.tasks)"
   ]
  },
  {
   "cell_type": "markdown",
   "id": "27d74573-b62c-4ac1-a142-d04c2dccfd08",
   "metadata": {},
   "source": [
    "We can try to resume the graph from the breakpoint. \n",
    "\n",
    "But, this just re-runs the same node! \n",
    "\n",
    "Unless state is changed we will be stuck here."
   ]
  },
  {
   "cell_type": "code",
   "execution_count": 5,
   "id": "b735875e-62c6-4253-ba85-7ccf93a353b4",
   "metadata": {},
   "outputs": [
    {
     "name": "stdout",
     "output_type": "stream",
     "text": [
      "{'input': 'hello world'}\n"
     ]
    }
   ],
   "source": [
    "for event in graph.stream(None, thread_config, stream_mode=\"values\"):\n",
    "    print(event)"
   ]
  },
  {
   "cell_type": "code",
   "execution_count": 6,
   "id": "1e3bc5e3-7a2f-49a1-8bdc-fd3597bd5fae",
   "metadata": {},
   "outputs": [
    {
     "name": "stdout",
     "output_type": "stream",
     "text": [
      "('step_2',)\n"
     ]
    }
   ],
   "source": [
    "state = graph.get_state(thread_config)\n",
    "print(state.next)"
   ]
  },
  {
   "cell_type": "markdown",
   "id": "79ab61de-5c3f-44a5-b417-e36b1a2f26dd",
   "metadata": {},
   "source": [
    "Now, we can update state."
   ]
  },
  {
   "cell_type": "code",
   "execution_count": 7,
   "id": "6f08dff4-3399-46de-a9ba-ba89b8cdb61e",
   "metadata": {},
   "outputs": [
    {
     "data": {
      "text/plain": [
       "{'configurable': {'thread_id': '1',\n",
       "  'checkpoint_ns': '',\n",
       "  'checkpoint_id': '1ef6a434-06cf-6f1e-8002-0ea6dc69e075'}}"
      ]
     },
     "execution_count": 7,
     "metadata": {},
     "output_type": "execute_result"
    }
   ],
   "source": [
    "graph.update_state(\n",
    "    thread_config,\n",
    "    {\"input\": \"hi\"},\n",
    ")"
   ]
  },
  {
   "cell_type": "code",
   "execution_count": 8,
   "id": "4cb3f62b-fccd-47c3-af1e-541969e4d804",
   "metadata": {},
   "outputs": [
    {
     "name": "stdout",
     "output_type": "stream",
     "text": [
      "{'input': 'hi'}\n",
      "---Step 2---\n",
      "{'input': 'hi'}\n",
      "---Step 3---\n",
      "{'input': 'hi'}\n"
     ]
    }
   ],
   "source": [
    "for event in graph.stream(None, thread_config, stream_mode=\"values\"):\n",
    "    print(event)"
   ]
  },
  {
   "attachments": {},
   "cell_type": "markdown",
   "id": "76e3dea8-8270-42c7-8d24-606b79b9c6aa",
   "metadata": {},
   "source": [
    "### Usage with LangGraph API\n",
    "\n",
    "**⚠️ DISCLAIMER**\n",
    "\n",
    "Since the filming of these videos, we've updated Studio so that it can be run locally and opened in your browser. This is now the preferred way to run Studio (rather than using the Desktop App as shown in the video). See documentation [here](https://langchain-ai.github.io/langgraph/concepts/langgraph_studio/#local-development-server) on the local development server and [here](https://langchain-ai.github.io/langgraph/how-tos/local-studio/#run-the-development-server). To start the local development server, run the following command in your terminal in the `/studio` directory in this module:\n",
    "\n",
    "```\n",
    "langgraph dev\n",
    "```\n",
    "\n",
    "You should see the following output:\n",
    "```\n",
    "- 🚀 API: http://127.0.0.1:2024\n",
    "- 🎨 Studio UI: https://smith.langchain.com/studio/?baseUrl=http://127.0.0.1:2024\n",
    "- 📚 API Docs: http://127.0.0.1:2024/docs\n",
    "```\n",
    "\n",
    "Open your browser and navigate to the Studio UI: `https://smith.langchain.com/studio/?baseUrl=http://127.0.0.1:2024`."
   ]
  },
  {
   "cell_type": "code",
   "execution_count": 1,
   "id": "be02c417-5adc-4789-aa90-02fd2312eb53",
   "metadata": {},
   "outputs": [],
   "source": [
    "if 'google.colab' in str(get_ipython()):\n",
    "    raise Exception(\"Unfortunately LangGraph Studio is currently not supported on Google Colab\")"
   ]
  },
  {
   "cell_type": "markdown",
   "id": "2390ff2e-6b1a-4c6e-b0ce-debd45085dc8",
   "metadata": {},
   "source": [
    "We connect to it via the SDK."
   ]
  },
  {
   "cell_type": "code",
   "execution_count": 2,
   "id": "4696327d",
   "metadata": {},
   "outputs": [],
   "source": [
    "from langgraph_sdk import get_client\n",
    "\n",
    "# This is the URL of the local development server\n",
    "URL = \"http://127.0.0.1:2024\"\n",
    "client = get_client(url=URL)\n",
    "\n",
    "# Search all hosted graphs\n",
    "assistants = await client.assistants.search()"
   ]
  },
  {
   "cell_type": "code",
   "execution_count": 12,
   "id": "8cb892cb-c79c-46bb-820b-d0479e71c5c4",
   "metadata": {},
   "outputs": [
    {
     "name": "stdout",
     "output_type": "stream",
     "text": [
      "Receiving new event of type: metadata...\n",
      "{'run_id': '1ef6a43a-1b04-64d0-9a79-1caff72c8a89'}\n",
      "\n",
      "\n",
      "\n",
      "Receiving new event of type: values...\n",
      "{'input': 'hello world'}\n",
      "\n",
      "\n",
      "\n",
      "Receiving new event of type: values...\n",
      "{'input': 'hello world'}\n",
      "\n",
      "\n",
      "\n"
     ]
    }
   ],
   "source": [
    "thread = await client.threads.create()\n",
    "input_dict = {\"input\": \"hello world\"}\n",
    "\n",
    "async for chunk in client.runs.stream(\n",
    "    thread[\"thread_id\"],\n",
    "    assistant_id=\"dynamic_breakpoints\",\n",
    "    input=input_dict,\n",
    "    stream_mode=\"values\",):\n",
    "    \n",
    "    print(f\"Receiving new event of type: {chunk.event}...\")\n",
    "    print(chunk.data)\n",
    "    print(\"\\n\\n\")"
   ]
  },
  {
   "cell_type": "code",
   "execution_count": 13,
   "id": "0ba7d9da",
   "metadata": {},
   "outputs": [],
   "source": [
    "current_state = await client.threads.get_state(thread['thread_id'])"
   ]
  },
  {
   "cell_type": "code",
   "execution_count": 14,
   "id": "9610fc2b-ae39-4ffa-84af-b049e7d22cd6",
   "metadata": {},
   "outputs": [
    {
     "data": {
      "text/plain": [
       "['step_2']"
      ]
     },
     "execution_count": 14,
     "metadata": {},
     "output_type": "execute_result"
    }
   ],
   "source": [
    "current_state['next']"
   ]
  },
  {
   "cell_type": "code",
   "execution_count": 15,
   "id": "1e880cf0-18b1-4f7b-a770-24d45dd22757",
   "metadata": {},
   "outputs": [
    {
     "data": {
      "text/plain": [
       "{'configurable': {'thread_id': 'ea8c2912-987e-49d9-b890-6e81d46065f9',\n",
       "  'checkpoint_ns': '',\n",
       "  'checkpoint_id': '1ef6a43a-64b2-6e85-8002-3cf4f2873968'},\n",
       " 'checkpoint_id': '1ef6a43a-64b2-6e85-8002-3cf4f2873968'}"
      ]
     },
     "execution_count": 15,
     "metadata": {},
     "output_type": "execute_result"
    }
   ],
   "source": [
    "await client.threads.update_state(thread['thread_id'], {\"input\": \"hi!\"})"
   ]
  },
  {
   "cell_type": "code",
   "execution_count": 23,
   "id": "16dc65b9-95c0-46eb-9f73-da0a35e70034",
   "metadata": {},
   "outputs": [
    {
     "name": "stdout",
     "output_type": "stream",
     "text": [
      "Receiving new event of type: metadata...\n",
      "{'run_id': '1ef64c33-fb34-6eaf-8b59-1d85c5b8acc9'}\n",
      "\n",
      "\n",
      "\n",
      "Receiving new event of type: values...\n",
      "{'input': 'hi!'}\n",
      "\n",
      "\n",
      "\n",
      "Receiving new event of type: values...\n",
      "{'input': 'hi!'}\n",
      "\n",
      "\n",
      "\n"
     ]
    }
   ],
   "source": [
    "async for chunk in client.runs.stream(\n",
    "    thread[\"thread_id\"],\n",
    "    assistant_id=\"dynamic_breakpoints\",\n",
    "    input=None,\n",
    "    stream_mode=\"values\",):\n",
    "    \n",
    "    print(f\"Receiving new event of type: {chunk.event}...\")\n",
    "    print(chunk.data)\n",
    "    print(\"\\n\\n\")"
   ]
  },
  {
   "cell_type": "code",
   "execution_count": 16,
   "id": "5f662b10-ad4c-45c7-a420-ded8ccae8faa",
   "metadata": {},
   "outputs": [
    {
     "data": {
      "text/plain": [
       "{'values': {'input': 'hi!'},\n",
       " 'next': ['step_2'],\n",
       " 'tasks': [{'id': '858e41b2-6501-585c-9bca-55c1e729ef91',\n",
       "   'name': 'step_2',\n",
       "   'error': None,\n",
       "   'interrupts': [],\n",
       "   'state': None}],\n",
       " 'metadata': {'step': 2,\n",
       "  'source': 'update',\n",
       "  'writes': {'step_1': {'input': 'hi!'}},\n",
       "  'parents': {},\n",
       "  'graph_id': 'dynamic_breakpoints'},\n",
       " 'created_at': '2024-09-03T22:27:05.707260+00:00',\n",
       " 'checkpoint_id': '1ef6a43a-64b2-6e85-8002-3cf4f2873968',\n",
       " 'parent_checkpoint_id': '1ef6a43a-1cb8-6c3d-8001-7b11d0d34f00'}"
      ]
     },
     "execution_count": 16,
     "metadata": {},
     "output_type": "execute_result"
    }
   ],
   "source": [
    "current_state = await client.threads.get_state(thread['thread_id'])\n",
    "current_state"
   ]
  },
  {
   "cell_type": "code",
   "execution_count": null,
   "id": "873b3696-df61-4f2e-94d8-089b7072aafa",
   "metadata": {},
   "outputs": [],
   "source": []
  }
 ],
 "metadata": {
  "kernelspec": {
   "display_name": "academy",
   "language": "python",
   "name": "python3"
  },
  "language_info": {
   "codemirror_mode": {
    "name": "ipython",
    "version": 3
   },
   "file_extension": ".py",
   "mimetype": "text/x-python",
   "name": "python",
   "nbconvert_exporter": "python",
   "pygments_lexer": "ipython3",
   "version": "3.11.8"
  }
 },
 "nbformat": 4,
 "nbformat_minor": 5
}
